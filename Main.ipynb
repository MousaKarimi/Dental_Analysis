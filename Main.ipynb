{
 "cells": [
  {
   "cell_type": "markdown",
   "metadata": {},
   "source": [
    "**Some Important libraries in DataScience**"
   ]
  },
  {
   "cell_type": "markdown",
   "metadata": {},
   "source": [
    "**Numpy library**\n",
    "\n",
    "NumPy is a python library used for working with arrays. It also has functions for working in domain of linear algebra, fourier transform, and matrices. NumPy was created in 2005 by Travis Oliphant. It is an open source project and you can use it freely. NumPy stands for Numerical Python.\n"
   ]
  },
  {
   "cell_type": "markdown",
   "metadata": {},
   "source": [
    "**Pandas**\n",
    "\n",
    "Pandas is a high-level data manipulation tool developed by Wes McKinney. It is built on the Numpy package and its key data structure is called the DataFrame. DataFrames allow you to store and manipulate tabular data in rows of observations and columns of variables.\n"
   ]
  },
  {
   "cell_type": "markdown",
   "metadata": {},
   "source": [
    "**matplotlib & seaborn**\n",
    "\n",
    "Matplotlib and seaborn are the \"grandfather\" library of data visualization with Python. there are an excellent 2D and 3D graphics library for generating scientific figures.\n"
   ]
  },
  {
   "cell_type": "markdown",
   "metadata": {},
   "source": [
    "**sklearn**\n",
    "\n",
    "Scikit-learn (formerly scikits. learn and also known as sklearn) is a free software machine learning library for the Python programming language."
   ]
  },
  {
   "cell_type": "markdown",
   "metadata": {},
   "source": [
    "**lightgbm**\n",
    "\n",
    "LightGBM is a gradient boosting framework that uses tree based learning algorithms. It is designed to be distributed and efficient with the following advantages: Faster training speed and higher efficiency. ... Support of parallel and GPU learning. Capable of handling large-scale data.\n",
    "\n",
    "**catboost**\n",
    "\n",
    "CatBoost is based on gradient boosting. A new machine learning technique developed by Yandex that outperforms many existing boosting algorithms like XGBoost, Light GBM. ... On the other hand, CatBoost is easy to implement and very powerful. It provides excellent results in it's very first to run."
   ]
  },
  {
   "cell_type": "markdown",
   "metadata": {},
   "source": [
    "**keras**\n",
    "\n",
    "Keras is an open-source neural-network library written in Python. It is capable of running on top of TensorFlow, Microsoft Cognitive Toolkit, R, Theano, or PlaidML. Designed to enable fast experimentation with deep neural networks, it focuses on being user-friendly, modular, and extensible."
   ]
  },
  {
   "cell_type": "code",
   "execution_count": 1,
   "metadata": {},
   "outputs": [],
   "source": [
    "import numpy as np\n",
    "import pandas as pd\n",
    "import seaborn as sns\n",
    "import matplotlib.pyplot as plt\n",
    "\n",
    "from sklearn.tree import DecisionTreeRegressor,DecisionTreeClassifier\n",
    "from sklearn.neural_network import MLPClassifier,MLPRegressor\n",
    "\n",
    "import lightgbm\n",
    "import xgboost"
   ]
  },
  {
   "cell_type": "code",
   "execution_count": 2,
   "metadata": {},
   "outputs": [],
   "source": [
    "from tensorflow.keras.models import Sequential\n",
    "from tensorflow.keras.layers import Dense,Dropout"
   ]
  },
  {
   "cell_type": "markdown",
   "metadata": {},
   "source": [
    "**MasterClass Schedule**\n",
    "\n",
    "% 25 in 5 days\n",
    "\n",
    "% 50 in 10 days\n",
    "\n",
    "% 75 in 10 days\n",
    "\n",
    "% 100 in 15 days"
   ]
  },
  {
   "cell_type": "code",
   "execution_count": 13,
   "metadata": {},
   "outputs": [
    {
     "name": "stdout",
     "output_type": "stream",
     "text": [
      "Please Enter 10 number one by one.\n",
      "Enter Number 1 :9823\n",
      "Enter Number 2 :873\n",
      "Enter Number 3 :6773\n",
      "Enter Number 4 :67219\n",
      "Enter Number 5 :837635\n",
      "Enter Number 6 :sajdh'kasjfh\n",
      "\u001b[31m************* ERROR : Please Enter a Number *************\n",
      "\u001b[0m\n",
      "Enter Number 6 :893752\n",
      "Enter Number 7 :836\n",
      "Enter Number 8 :663\n",
      "Enter Number 9 :777\n",
      "Enter Number 10 :9982\n",
      "\n",
      " The Result is :  9982   4\n"
     ]
    }
   ],
   "source": [
    "from colorama import Fore, Style\n",
    "\n",
    "def isprime(i):\n",
    "    for j in range(2,i) :\n",
    "        if i%j==0 : \n",
    "            return False\n",
    "    return True\n",
    "\n",
    "def Divisor(n):\n",
    "    count=0\n",
    "    for j in range(2,int(n/2)+1) :\n",
    "        if n%j==0 :\n",
    "            if isprime(j) :\n",
    "                count+=1\n",
    "    if (isprime(n) and n>1):\n",
    "        count+=1\n",
    "    return count\n",
    "\n",
    "\n",
    "i=1\n",
    "my_list=[]\n",
    "print('Please Enter 10 number one by one.')\n",
    "while i<11 :\n",
    "    try :\n",
    "        my_list.append(int(input('Enter Number {0} :'.format(i))))\n",
    "        i+=1\n",
    "    except :\n",
    "        print(Fore.RED + '************* ERROR : Please Enter a Number *************')\n",
    "        print(Style.RESET_ALL)\n",
    "        \n",
    "even_Divisor=list(map(lambda item : Divisor(item),my_list))\n",
    "\n",
    "max_Divisor=max(even_Divisor)\n",
    "if even_Divisor.count(max_Divisor>1):   \n",
    "    final_list=[]\n",
    "    for i in range(len(even_Divisor)) :\n",
    "        if even_Divisor[i]==max_Divisor :\n",
    "            final_list.append(my_list[i])\n",
    "    final_list=sorted(final_list,reverse=True)\n",
    "    print('\\n','The Result is : ',final_list[0],' ',max_Divisor)\n",
    "else :\n",
    "    print('\\n','The Result is : ',my_list[even_Divisor.index(max_Divisor)],max_Divisor)"
   ]
  },
  {
   "cell_type": "code",
   "execution_count": null,
   "metadata": {},
   "outputs": [],
   "source": []
  }
 ],
 "metadata": {
  "kernelspec": {
   "display_name": "Python 3",
   "language": "python",
   "name": "python3"
  },
  "language_info": {
   "codemirror_mode": {
    "name": "ipython",
    "version": 3
   },
   "file_extension": ".py",
   "mimetype": "text/x-python",
   "name": "python",
   "nbconvert_exporter": "python",
   "pygments_lexer": "ipython3",
   "version": "3.7.4"
  }
 },
 "nbformat": 4,
 "nbformat_minor": 4
}
