{
 "cells": [
  {
   "cell_type": "code",
   "execution_count": 162,
   "metadata": {},
   "outputs": [],
   "source": [
    "class Person(object):\n",
    "    \n",
    "    def __init__(self, firstname, lastname, age):\n",
    "        self.firstname=firstname\n",
    "        self.lastname=lastname\n",
    "        self.age=age\n",
    "        \n",
    "def People_sort(Class_List, field):\n",
    "    Class_List.sort(key=lambda x: (x.__getattribute__(field)))\n",
    "    for item in Class_List :\n",
    "        print(item.__getattribute__(field), end=\" \")"
   ]
  },
  {
   "cell_type": "code",
   "execution_count": 163,
   "metadata": {},
   "outputs": [],
   "source": [
    "p1=Person(\"Michael\", \"Smith\", 40)\n",
    "p2=Person(\"Alice\", \"Waters\", 21)\n",
    "p3=Person(\"Zoey\", \"Jones\", 29)"
   ]
  },
  {
   "cell_type": "code",
   "execution_count": 164,
   "metadata": {},
   "outputs": [
    {
     "name": "stdout",
     "output_type": "stream",
     "text": [
      "Alice Michael Zoey "
     ]
    }
   ],
   "source": [
    "People_sort([p1,p2,p3],\"firstname\")"
   ]
  },
  {
   "cell_type": "code",
   "execution_count": 165,
   "metadata": {},
   "outputs": [
    {
     "name": "stdout",
     "output_type": "stream",
     "text": [
      "Jones Smith Waters "
     ]
    }
   ],
   "source": [
    "People_sort([p1,p2,p3],\"lastname\")"
   ]
  },
  {
   "cell_type": "code",
   "execution_count": 166,
   "metadata": {},
   "outputs": [
    {
     "name": "stdout",
     "output_type": "stream",
     "text": [
      "21 29 40 "
     ]
    }
   ],
   "source": [
    "People_sort([p1,p2,p3],\"age\")"
   ]
  },
  {
   "cell_type": "code",
   "execution_count": null,
   "metadata": {},
   "outputs": [],
   "source": []
  }
 ],
 "metadata": {
  "kernelspec": {
   "display_name": "Python 3",
   "language": "python",
   "name": "python3"
  },
  "language_info": {
   "codemirror_mode": {
    "name": "ipython",
    "version": 3
   },
   "file_extension": ".py",
   "mimetype": "text/x-python",
   "name": "python",
   "nbconvert_exporter": "python",
   "pygments_lexer": "ipython3",
   "version": "3.7.4"
  }
 },
 "nbformat": 4,
 "nbformat_minor": 4
}
