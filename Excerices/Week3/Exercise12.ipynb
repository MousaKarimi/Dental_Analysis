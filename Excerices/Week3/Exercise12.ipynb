{
 "cells": [
  {
   "cell_type": "code",
   "execution_count": 145,
   "metadata": {},
   "outputs": [],
   "source": [
    "class calculate(object):\n",
    "\n",
    "    def __init__(self, num):\n",
    "        self.num = num\n",
    "        self.nines=self.num//9\n",
    "        self.R=self.num%9\n",
    "        self.threes=self.R//3\n",
    "        self.ones=self.R%3\n",
    "    \n",
    "    def answer(self):\n",
    "        self.answer=\"nine:{0.nines}, threes:{0.threes}, ones:{0.ones}\".format(self)\n",
    "        return self.answer\n",
    "    \n",
    "def ones_threes_nines(num):\n",
    "    number=calculate(num)\n",
    "    print(number.answer())"
   ]
  },
  {
   "cell_type": "code",
   "execution_count": 146,
   "metadata": {},
   "outputs": [
    {
     "name": "stdout",
     "output_type": "stream",
     "text": [
      "nine:1, threes:0, ones:1\n"
     ]
    }
   ],
   "source": [
    "ones_threes_nines(10)"
   ]
  },
  {
   "cell_type": "code",
   "execution_count": 147,
   "metadata": {},
   "outputs": [
    {
     "name": "stdout",
     "output_type": "stream",
     "text": [
      "nine:1, threes:2, ones:0\n"
     ]
    }
   ],
   "source": [
    "ones_threes_nines(15)"
   ]
  },
  {
   "cell_type": "code",
   "execution_count": 148,
   "metadata": {},
   "outputs": [
    {
     "name": "stdout",
     "output_type": "stream",
     "text": [
      "nine:2, threes:1, ones:1\n"
     ]
    }
   ],
   "source": [
    "ones_threes_nines(22)"
   ]
  },
  {
   "cell_type": "code",
   "execution_count": null,
   "metadata": {},
   "outputs": [],
   "source": []
  }
 ],
 "metadata": {
  "kernelspec": {
   "display_name": "Python 3",
   "language": "python",
   "name": "python3"
  },
  "language_info": {
   "codemirror_mode": {
    "name": "ipython",
    "version": 3
   },
   "file_extension": ".py",
   "mimetype": "text/x-python",
   "name": "python",
   "nbconvert_exporter": "python",
   "pygments_lexer": "ipython3",
   "version": "3.7.4"
  }
 },
 "nbformat": 4,
 "nbformat_minor": 4
}
