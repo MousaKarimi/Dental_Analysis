{
 "cells": [
  {
   "cell_type": "code",
   "execution_count": 126,
   "metadata": {},
   "outputs": [],
   "source": [
    "class Employee(object):\n",
    "    \n",
    "    def __init__(self, name, **kwargs):\n",
    "        self.name, self.lastname=name.split(\" \")\n",
    "        for item, value in kwargs.items():\n",
    "            setattr(self, item, value)"
   ]
  },
  {
   "cell_type": "code",
   "execution_count": 127,
   "metadata": {},
   "outputs": [],
   "source": [
    "john=Employee(\"John Doe\")\n",
    "mary=Employee(\"Mary Major\", salary=120000)\n",
    "richard=Employee(\"Richard Roe\", salary=110000, height=178)\n",
    "giancarlo=Employee(\"Giancarlo Rossi\", salary=115000, height=182, natinality=\"Italian\")"
   ]
  },
  {
   "cell_type": "code",
   "execution_count": 128,
   "metadata": {},
   "outputs": [
    {
     "name": "stdout",
     "output_type": "stream",
     "text": [
      "John\n",
      "Major\n",
      "178\n",
      "Italian\n"
     ]
    }
   ],
   "source": [
    "print(john.name)\n",
    "print(mary.lastname)\n",
    "print(richard.height)\n",
    "print(giancarlo.natinality)"
   ]
  },
  {
   "cell_type": "code",
   "execution_count": null,
   "metadata": {},
   "outputs": [],
   "source": []
  }
 ],
 "metadata": {
  "kernelspec": {
   "display_name": "Python 3",
   "language": "python",
   "name": "python3"
  },
  "language_info": {
   "codemirror_mode": {
    "name": "ipython",
    "version": 3
   },
   "file_extension": ".py",
   "mimetype": "text/x-python",
   "name": "python",
   "nbconvert_exporter": "python",
   "pygments_lexer": "ipython3",
   "version": "3.7.4"
  }
 },
 "nbformat": 4,
 "nbformat_minor": 4
}
