{
 "cells": [
  {
   "cell_type": "code",
   "execution_count": 221,
   "metadata": {},
   "outputs": [],
   "source": [
    "class Employee(object):\n",
    "    \n",
    "    def __init__(self, firstname, lastname, salary):\n",
    "        self.firstname=firstname\n",
    "        self.lastname=lastname\n",
    "        self.salary=salary\n",
    "        \n",
    "    def from_string(string):\n",
    "        firstname, lastname, salary= string.split('-')\n",
    "        salary=int(salary)\n",
    "        emp2=Employee(firstname, lastname, salary)\n",
    "        return emp2"
   ]
  },
  {
   "cell_type": "code",
   "execution_count": 222,
   "metadata": {},
   "outputs": [],
   "source": [
    "emp1=Employee(\"Mary\", \"sue\", 60000)\n",
    "emp2=Employee.from_string(\"John-Smith-55000\")"
   ]
  },
  {
   "cell_type": "code",
   "execution_count": 223,
   "metadata": {},
   "outputs": [
    {
     "name": "stdout",
     "output_type": "stream",
     "text": [
      "Mary sue 60000\n"
     ]
    }
   ],
   "source": [
    "print(emp1.firstname, emp1.lastname, emp1.salary)"
   ]
  },
  {
   "cell_type": "code",
   "execution_count": 224,
   "metadata": {},
   "outputs": [
    {
     "name": "stdout",
     "output_type": "stream",
     "text": [
      "John Smith 55000\n"
     ]
    }
   ],
   "source": [
    "print(emp2.firstname, emp2.lastname, emp2.salary)"
   ]
  },
  {
   "cell_type": "code",
   "execution_count": null,
   "metadata": {},
   "outputs": [],
   "source": []
  }
 ],
 "metadata": {
  "kernelspec": {
   "display_name": "Python 3",
   "language": "python",
   "name": "python3"
  },
  "language_info": {
   "codemirror_mode": {
    "name": "ipython",
    "version": 3
   },
   "file_extension": ".py",
   "mimetype": "text/x-python",
   "name": "python",
   "nbconvert_exporter": "python",
   "pygments_lexer": "ipython3",
   "version": "3.7.4"
  }
 },
 "nbformat": 4,
 "nbformat_minor": 4
}
