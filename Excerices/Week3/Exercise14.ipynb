{
 "cells": [
  {
   "cell_type": "code",
   "execution_count": 350,
   "metadata": {},
   "outputs": [],
   "source": [
    "class Shiritori(object):\n",
    "\n",
    "    def __init__(self):\n",
    "        self.words=[]\n",
    "        self.game_over=False\n",
    "        self.numberofwords=-1\n",
    "    \n",
    "    def play(self, newword):\n",
    "        newword=newword.casefold()\n",
    "        if not self._find_duplicate(newword) :\n",
    "            self.words.append(newword)\n",
    "            self.numberofwords+=1\n",
    "            if self.numberofwords>0 :\n",
    "                prv_word=self.words[self.numberofwords-1]\n",
    "                prv_lastchar=prv_word[len(prv_word)-1]\n",
    "                if prv_lastchar!=newword[0] :\n",
    "                    self.game_over=True\n",
    "                    print(f\"Game Over , {newword} should start with \\\"{prv_lastchar.casefold()}\\\" \")\n",
    "            return self.game_over\n",
    "    \n",
    "    def _find_duplicate(self, newword) :\n",
    "        if newword in self.words :\n",
    "            print(f\"{newword} has already been said\")\n",
    "            self.game_over=True\n",
    "        return self.game_over\n",
    "    \n",
    "    def restart(self):\n",
    "        self.game_over=False\n",
    "        self.words=[]"
   ]
  },
  {
   "cell_type": "code",
   "execution_count": 352,
   "metadata": {},
   "outputs": [
    {
     "name": "stdout",
     "output_type": "stream",
     "text": [
      "Enter a word : hive\n",
      "Enter a word : eh\n",
      "Enter a word : Hive\n",
      "hive has already been said\n"
     ]
    }
   ],
   "source": [
    "player1=Shiritori()\n",
    "while not player1.game_over :\n",
    "    word=input(\"Enter a word : \")\n",
    "    player1.play(word)"
   ]
  },
  {
   "cell_type": "code",
   "execution_count": 348,
   "metadata": {},
   "outputs": [
    {
     "name": "stdout",
     "output_type": "stream",
     "text": [
      "Enter a word : motive\n",
      "Enter a word : beach\n",
      "Game Over , beach should start with \"e\" \n"
     ]
    }
   ],
   "source": [
    "player1=Shiritori()\n",
    "while not player1.game_over :\n",
    "    word=input(\"Enter a word : \")\n",
    "    player1.play(word)"
   ]
  },
  {
   "cell_type": "code",
   "execution_count": 349,
   "metadata": {},
   "outputs": [
    {
     "name": "stdout",
     "output_type": "stream",
     "text": [
      "Enter a word : word\n",
      "Enter a word : dowry\n",
      "Enter a word : yodel\n",
      "Enter a word : leader\n",
      "Enter a word : light\n",
      "Game Over , light should start with \"r\" \n"
     ]
    }
   ],
   "source": [
    "player1=Shiritori()\n",
    "while not player1.game_over :\n",
    "    word=input(\"Enter a word : \")\n",
    "    player1.play(word)"
   ]
  },
  {
   "cell_type": "code",
   "execution_count": 354,
   "metadata": {},
   "outputs": [],
   "source": [
    "player1.restart()"
   ]
  },
  {
   "cell_type": "code",
   "execution_count": 355,
   "metadata": {},
   "outputs": [
    {
     "data": {
      "text/plain": [
       "False"
      ]
     },
     "execution_count": 355,
     "metadata": {},
     "output_type": "execute_result"
    }
   ],
   "source": [
    "player1.game_over"
   ]
  },
  {
   "cell_type": "code",
   "execution_count": 356,
   "metadata": {},
   "outputs": [
    {
     "data": {
      "text/plain": [
       "[]"
      ]
     },
     "execution_count": 356,
     "metadata": {},
     "output_type": "execute_result"
    }
   ],
   "source": [
    "player1.words"
   ]
  },
  {
   "cell_type": "code",
   "execution_count": null,
   "metadata": {},
   "outputs": [],
   "source": []
  }
 ],
 "metadata": {
  "kernelspec": {
   "display_name": "Python 3",
   "language": "python",
   "name": "python3"
  },
  "language_info": {
   "codemirror_mode": {
    "name": "ipython",
    "version": 3
   },
   "file_extension": ".py",
   "mimetype": "text/x-python",
   "name": "python",
   "nbconvert_exporter": "python",
   "pygments_lexer": "ipython3",
   "version": "3.7.4"
  }
 },
 "nbformat": 4,
 "nbformat_minor": 4
}
