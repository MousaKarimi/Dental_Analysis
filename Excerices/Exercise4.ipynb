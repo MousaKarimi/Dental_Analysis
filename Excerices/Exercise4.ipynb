{
 "cells": [
  {
   "cell_type": "code",
   "execution_count": 1,
   "metadata": {},
   "outputs": [
    {
     "name": "stdout",
     "output_type": "stream",
     "text": [
      "How many Student are involved in this Competition? 4\n",
      "\n",
      " Information : f.Mina.c++\n",
      "\n",
      " Information : m.HosSein.c\n",
      "\n",
      " Information : m.mousa.python\n",
      "\n",
      " Information : f.zahra.Java\n",
      "\n",
      " f Mina c++\n",
      "\n",
      " f Zahra Java\n",
      "\n",
      " m Hossein c\n",
      "\n",
      " m Mousa python\n"
     ]
    }
   ],
   "source": [
    "#Exercise 4\n",
    "from colorama import Fore, Style\n",
    "\n",
    "while True :\n",
    "    try :\n",
    "        x=int(input('How many Student are involved in this Competition? '))\n",
    "        break\n",
    "    except :\n",
    "        print(Fore.RED + '************* ERROR : Please Enter a Number *************')\n",
    "        print(Style.RESET_ALL)\n",
    "        \n",
    "Stusent_list=[]\n",
    "for i in range(x) :\n",
    "    Stusent_Info=input('\\n Information : ').split('.')\n",
    "    Stusent_Info[1]=Stusent_Info[1].lower().title()\n",
    "    Stusent_list.append(tuple(Stusent_Info))\n",
    "\n",
    "#sort the tuple\n",
    "Stusent_list.sort(key=lambda x: (x[0],x[1]))\n",
    "\n",
    "#print the result\n",
    "for i in Stusent_list :\n",
    "    print('\\n {0} {1} {2}'.format(i[0],i[1],i[2]))"
   ]
  },
  {
   "cell_type": "code",
   "execution_count": null,
   "metadata": {},
   "outputs": [],
   "source": []
  }
 ],
 "metadata": {
  "kernelspec": {
   "display_name": "Python 3",
   "language": "python",
   "name": "python3"
  },
  "language_info": {
   "codemirror_mode": {
    "name": "ipython",
    "version": 3
   },
   "file_extension": ".py",
   "mimetype": "text/x-python",
   "name": "python",
   "nbconvert_exporter": "python",
   "pygments_lexer": "ipython3",
   "version": "3.7.4"
  }
 },
 "nbformat": 4,
 "nbformat_minor": 4
}
