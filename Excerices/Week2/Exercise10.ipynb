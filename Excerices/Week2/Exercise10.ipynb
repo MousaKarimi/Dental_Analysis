{
 "cells": [
  {
   "cell_type": "code",
   "execution_count": 87,
   "metadata": {},
   "outputs": [],
   "source": [
    "#Exercise 10\n",
    "\n",
    "def tallest_skyscraper(twoD_list) :\n",
    "    i=0\n",
    "    height_List=[]\n",
    "    while i<len(twoD_list[0]) :\n",
    "        j=0\n",
    "        height=0\n",
    "        while j<len(twoD_list) :\n",
    "            height +=twoD_list[j][i]\n",
    "            j+=1\n",
    "        height_List.append(height)\n",
    "        i+=1\n",
    "    return max(height_List)"
   ]
  },
  {
   "cell_type": "code",
   "execution_count": 88,
   "metadata": {},
   "outputs": [
    {
     "data": {
      "text/plain": [
       "4"
      ]
     },
     "execution_count": 88,
     "metadata": {},
     "output_type": "execute_result"
    }
   ],
   "source": [
    "tallest_skyscraper([[0,0,0,0,0,0],\n",
    "        [0,0,0,0,1,0],\n",
    "        [0,0,1,0,1,0],\n",
    "        [0,1,1,1,1,0],\n",
    "        [1,1,1,1,1,1]])"
   ]
  },
  {
   "cell_type": "code",
   "execution_count": 89,
   "metadata": {},
   "outputs": [
    {
     "data": {
      "text/plain": [
       "3"
      ]
     },
     "execution_count": 89,
     "metadata": {},
     "output_type": "execute_result"
    }
   ],
   "source": [
    "tallest_skyscraper([[0,0,0,0],\n",
    "        [0,1,0,0],\n",
    "        [0,1,1,0],\n",
    "        [1,1,1,1]])"
   ]
  },
  {
   "cell_type": "code",
   "execution_count": 90,
   "metadata": {},
   "outputs": [
    {
     "data": {
      "text/plain": [
       "4"
      ]
     },
     "execution_count": 90,
     "metadata": {},
     "output_type": "execute_result"
    }
   ],
   "source": [
    "tallest_skyscraper([[0,1,0,0],\n",
    "        [0,1,0,0],\n",
    "        [0,1,1,0],\n",
    "        [1,1,1,1]])"
   ]
  },
  {
   "cell_type": "code",
   "execution_count": 91,
   "metadata": {},
   "outputs": [
    {
     "data": {
      "text/plain": [
       "2"
      ]
     },
     "execution_count": 91,
     "metadata": {},
     "output_type": "execute_result"
    }
   ],
   "source": [
    "tallest_skyscraper([[0,0,0,0],\n",
    "        [0,0,0,0],\n",
    "        [1,1,1,0],\n",
    "        [1,1,1,1]])"
   ]
  },
  {
   "cell_type": "code",
   "execution_count": null,
   "metadata": {},
   "outputs": [],
   "source": []
  }
 ],
 "metadata": {
  "kernelspec": {
   "display_name": "Python 3",
   "language": "python",
   "name": "python3"
  },
  "language_info": {
   "codemirror_mode": {
    "name": "ipython",
    "version": 3
   },
   "file_extension": ".py",
   "mimetype": "text/x-python",
   "name": "python",
   "nbconvert_exporter": "python",
   "pygments_lexer": "ipython3",
   "version": "3.7.4"
  }
 },
 "nbformat": 4,
 "nbformat_minor": 4
}
