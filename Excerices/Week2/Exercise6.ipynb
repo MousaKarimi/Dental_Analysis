{
 "cells": [
  {
   "cell_type": "code",
   "execution_count": 66,
   "metadata": {},
   "outputs": [
    {
     "name": "stdout",
     "output_type": "stream",
     "text": [
      ". -.. .- -... -... .. -   -.-. .... .- .-.. .-.. . -. --. .\n",
      ".... . .-.. .--.   -- .   -.-.--\n",
      ".... . .-.. .--.   -- .   -.-.--\n",
      ".--. .-.. . .- ... .   ... .- ...- .   -- .   .-...   -- -.--   ... --- -.\n"
     ]
    }
   ],
   "source": [
    "#Exercise 6\n",
    "\n",
    "char_to_dots = {\n",
    "    'A':'.-', 'B':'-...', 'C':'-.-.', 'D':'-..', 'E':'.','F':'..-.', \n",
    "    'G':'--.', 'H':'....', 'I':'..', 'J':'.---', 'K':'-.-', 'L':'.-..', \n",
    "    'M':'--', 'N':'-.', 'O':'---', 'P':'.--.', 'Q':'--.-', 'R':'.-.', \n",
    "    'S':'...', 'T':'-', 'U':'..-', 'V':'...-', 'W':'.--', 'X':'-..-', \n",
    "    'Y':'-.--', 'Z':'--..', ' ': ' ', '0':'-----', \n",
    "    '1':'.----', '2':'..---', '3':'...--', '4':'....-', '5':'.....', \n",
    "    '6':'-....', '7':'--...', '8':'---..', '9':'----.', \n",
    "    '&':'.-...', \"'\":'.---.', '@':'.--.-.', ')':'-.--.-', '(':'-.--.',\n",
    "    ':':'---...',', ':'--..--', '=':'-...-', '!':'-.-.--', '.':'.-.-.-', \n",
    "    '-':'-....-', '+':'.-.-.', '\"':'.-..-.', '?':'..--..', '/':'-..-.'\n",
    "}\n",
    "\n",
    "def encode_morse(message):\n",
    "    return ' '.join(char_to_dots.get(char.upper()) for char in message)\n",
    "\n",
    "print(encode_morse(\"EDABBIT CHALLENGE\"))\n",
    "print(encode_morse(\"HELP ME !\"))\n",
    "print(encode_morse(\"help me !\"))\n",
    "print(encode_morse('Please save me & my son'))"
   ]
  },
  {
   "cell_type": "code",
   "execution_count": null,
   "metadata": {},
   "outputs": [],
   "source": []
  }
 ],
 "metadata": {
  "kernelspec": {
   "display_name": "Python 3",
   "language": "python",
   "name": "python3"
  },
  "language_info": {
   "codemirror_mode": {
    "name": "ipython",
    "version": 3
   },
   "file_extension": ".py",
   "mimetype": "text/x-python",
   "name": "python",
   "nbconvert_exporter": "python",
   "pygments_lexer": "ipython3",
   "version": "3.7.4"
  }
 },
 "nbformat": 4,
 "nbformat_minor": 4
}
