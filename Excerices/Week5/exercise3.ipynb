{
 "cells": [
  {
   "cell_type": "code",
   "execution_count": 2,
   "metadata": {},
   "outputs": [
    {
     "name": "stdout",
     "output_type": "stream",
     "text": [
      "7 3\n",
      "Tsi\n",
      "h%x\n",
      "i #\n",
      "sM \n",
      "$a \n",
      "#t%\n",
      "ir!\n",
      "This is Matrix#  %!\n"
     ]
    }
   ],
   "source": [
    "import re\n",
    "  \n",
    "(N,M) = map(int, input().strip().split())\n",
    "  \n",
    "matrix = []\n",
    "  \n",
    "for i in range(N):\n",
    "    matrix.append(input())\n",
    "\n",
    "Final_String = \"\"\n",
    "  \n",
    "for j in range(M):\n",
    "    for i in range(N):\n",
    "        Final_String += str(matrix[i][j])\n",
    "\n",
    "print (re.sub(r'\\b[^a-zA-Z0-9]+\\b', r' ', Final_String))"
   ]
  },
  {
   "cell_type": "code",
   "execution_count": null,
   "metadata": {},
   "outputs": [],
   "source": []
  }
 ],
 "metadata": {
  "kernelspec": {
   "display_name": "Python 3",
   "language": "python",
   "name": "python3"
  },
  "language_info": {
   "codemirror_mode": {
    "name": "ipython",
    "version": 3
   },
   "file_extension": ".py",
   "mimetype": "text/x-python",
   "name": "python",
   "nbconvert_exporter": "python",
   "pygments_lexer": "ipython3",
   "version": "3.7.4"
  }
 },
 "nbformat": 4,
 "nbformat_minor": 4
}
