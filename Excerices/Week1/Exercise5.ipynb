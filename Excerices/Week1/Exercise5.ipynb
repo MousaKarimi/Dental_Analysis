{
 "cells": [
  {
   "cell_type": "code",
   "execution_count": 1,
   "metadata": {},
   "outputs": [
    {
     "name": "stdout",
     "output_type": "stream",
     "text": [
      "The Persian, League is the largest sport event decicated to the deprived areas of Iran. The Persian League promotes peace, and friendship. This video was captured by one of our heroes who wishes pieace.\n",
      "\n",
      "\n",
      "2 : Persian\n",
      "3 : League\n",
      "15 : Iran\n",
      "17 : Persian\n",
      "18 : League\n"
     ]
    }
   ],
   "source": [
    "#Exercise 5\n",
    "My_Text=input().split('.')\n",
    "\n",
    "My_Text.remove('')\n",
    "\n",
    "for i in range(len(My_Text)) :\n",
    "    My_Text[i]=My_Text[i].split(' ')\n",
    "\n",
    "for i in range(len(My_Text)) :\n",
    "    if '' in My_Text[i] :\n",
    "        My_Text[i].remove('')\n",
    "        \n",
    "for i in range(len(My_Text)):\n",
    "    for j in range(len(My_Text[i])) :\n",
    "        if ',' in (My_Text[i][j]) :\n",
    "            My_Text[i][j]=My_Text[i][j].replace(',','')\n",
    "        \n",
    "Num_Word=[]\n",
    "for i in My_Text :\n",
    "    Num_Word.append(len(i))\n",
    "    \n",
    "Counter=0\n",
    "print('\\n')\n",
    "for i in range(len(My_Text)):\n",
    "    l=0\n",
    "    for k in range(i) :\n",
    "        l+=Num_Word[k]\n",
    "    for j in range(1,len(My_Text[i])) :\n",
    "        if (My_Text[i][j]==My_Text[i][j].lower().title()) :\n",
    "            Counter+=1\n",
    "            print((l+j+1),':',My_Text[i][j])\n",
    "if Counter==0 :\n",
    "    print('None')"
   ]
  },
  {
   "cell_type": "code",
   "execution_count": null,
   "metadata": {},
   "outputs": [],
   "source": []
  }
 ],
 "metadata": {
  "kernelspec": {
   "display_name": "Python 3",
   "language": "python",
   "name": "python3"
  },
  "language_info": {
   "codemirror_mode": {
    "name": "ipython",
    "version": 3
   },
   "file_extension": ".py",
   "mimetype": "text/x-python",
   "name": "python",
   "nbconvert_exporter": "python",
   "pygments_lexer": "ipython3",
   "version": "3.7.4"
  }
 },
 "nbformat": 4,
 "nbformat_minor": 4
}
