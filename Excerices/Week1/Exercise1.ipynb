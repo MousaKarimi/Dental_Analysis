{
 "cells": [
  {
   "cell_type": "code",
   "execution_count": 1,
   "metadata": {},
   "outputs": [
    {
     "name": "stdout",
     "output_type": "stream",
     "text": [
      "Please Enter 10 number one by one.\n",
      "Enter Number 1 :10\n",
      "Enter Number 2 :239\n",
      "Enter Number 3 :8963\n",
      "Enter Number 4 :87354\n",
      "Enter Number 5 :7723\n",
      "Enter Number 6 :773\n",
      "Enter Number 7 :888\n",
      "Enter Number 8 :28293\n",
      "Enter Number 9 :253\n",
      "Enter Number 10 :37\n",
      "\n",
      "The Result is :  87354   4\n"
     ]
    }
   ],
   "source": [
    "#Exercise One\n",
    "\n",
    "from colorama import Fore, Style\n",
    "\n",
    "#function that find a number is prime\n",
    "def isprime(i):\n",
    "    for j in range(2,i) :\n",
    "        if i%j==0 : \n",
    "            return False\n",
    "    return True\n",
    "\n",
    "#function that find prime divisors of a number\n",
    "def Divisor(n):\n",
    "    count=0\n",
    "    for j in range(2,int(n/2)+1) :\n",
    "        if n%j==0 :\n",
    "            if isprime(j) :\n",
    "                count+=1\n",
    "    if (isprime(n) and n>1):\n",
    "        count+=1\n",
    "    return count\n",
    "\n",
    "\n",
    "i=1\n",
    "my_list=[]\n",
    "print('Please Enter 10 number one by one.')\n",
    "while i<11 :\n",
    "    try :\n",
    "        my_list.append(int(input('Enter Number {0} :'.format(i))))\n",
    "        i+=1\n",
    "    except :\n",
    "        print(Fore.RED + '************* ERROR : Please Enter a Number *************')\n",
    "        print(Style.RESET_ALL)\n",
    "        \n",
    "#finding prime divsor\n",
    "even_Divisor=list(map(lambda item : Divisor(item),my_list))\n",
    "\n",
    "#print the result\n",
    "max_Divisor=max(even_Divisor)\n",
    "if even_Divisor.count(max_Divisor>1):   \n",
    "    final_list=[]\n",
    "    for i in range(len(even_Divisor)) :\n",
    "        if even_Divisor[i]==max_Divisor :\n",
    "            final_list.append(my_list[i])\n",
    "    final_list=sorted(final_list,reverse=True)\n",
    "    print('\\nThe Result is : ',final_list[0],' ',max_Divisor)\n",
    "else :\n",
    "    print('\\nThe Result is : ',my_list[even_Divisor.index(max_Divisor)],max_Divisor)"
   ]
  },
  {
   "cell_type": "code",
   "execution_count": null,
   "metadata": {},
   "outputs": [],
   "source": []
  }
 ],
 "metadata": {
  "kernelspec": {
   "display_name": "Python 3",
   "language": "python",
   "name": "python3"
  },
  "language_info": {
   "codemirror_mode": {
    "name": "ipython",
    "version": 3
   },
   "file_extension": ".py",
   "mimetype": "text/x-python",
   "name": "python",
   "nbconvert_exporter": "python",
   "pygments_lexer": "ipython3",
   "version": "3.7.4"
  }
 },
 "nbformat": 4,
 "nbformat_minor": 4
}
