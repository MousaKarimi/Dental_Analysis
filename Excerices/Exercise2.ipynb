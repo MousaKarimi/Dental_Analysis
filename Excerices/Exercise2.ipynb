{
 "cells": [
  {
   "cell_type": "code",
   "execution_count": 1,
   "metadata": {},
   "outputs": [
    {
     "name": "stdout",
     "output_type": "stream",
     "text": [
      "Iran - Spain\n",
      "2-2\n",
      "Iran - Portugal\n",
      "1-2\n",
      "Iran - Morocco\n",
      "1-1\n",
      "Spain - Portugal\n",
      "3-3\n",
      "Spain - Morocco\n",
      "3-2\n",
      "Portugal - Morocco\n",
      "2-3\n",
      "\n",
      "\n",
      "Spain       wins :  1  loses :  0  draws :  2  goal diference :  1   points :  5\n",
      "Morocco     wins :  1  loses :  1  draws :  1  goal diference :  0   points :  4\n",
      "Portugal    wins :  1  loses :  1  draws :  1  goal diference :  0   points :  4\n",
      "Iran        wins :  0  loses :  1  draws :  2  goal diference :  -1   points :  2\n"
     ]
    }
   ],
   "source": [
    "#Exercise 2\n",
    "\n",
    "from colorama import Fore, Style\n",
    "\n",
    "teams=[{'name':'Iran','wins':0,'loses':0,'draws':0,'goal diference':0,'points':0},\n",
    "      {'name':'Spain','wins':0,'loses':0,'draws':0,'goal diference':0,'points':0},\n",
    "      {'name':'Portugal','wins':0,'loses':0,'draws':0,'goal diference':0,'points':0},\n",
    "      {'name':'Morocco','wins':0,'loses':0,'draws':0,'goal diference':0,'points':0}]\n",
    "\n",
    "goals=[]\n",
    "for i in range(len(teams)) :\n",
    "    j=i+1\n",
    "    while j<len(teams) :\n",
    "        print(teams[i]['name'],'-',teams[j]['name'])\n",
    "        result=input()\n",
    "        goals=result.split('-')\n",
    "        try :\n",
    "            if int(goals[0])+int(goals[1])>=0 : \n",
    "                if int(goals[0])>int(goals[1]) :\n",
    "                    teams[i]['wins']+=1\n",
    "                    teams[i]['points']+=3\n",
    "                    teams[i]['goal diference']+=int(goals[0])-int(goals[1])\n",
    "                    teams[j]['loses']+=1\n",
    "                    teams[j]['goal diference']-=int(goals[0])-int(goals[1])\n",
    "                elif int(goals[0])<int(goals[1]) :\n",
    "                    teams[j]['wins']+=1\n",
    "                    teams[j]['points']+=3\n",
    "                    teams[j]['goal diference']+=int(goals[1])-int(goals[0])\n",
    "                    teams[i]['loses']+=1\n",
    "                    teams[i]['goal diference']-=int(goals[1])-int(goals[0])\n",
    "                else :\n",
    "                    teams[i]['draws']+=1\n",
    "                    teams[i]['points']+=1\n",
    "                    teams[j]['draws']+=1\n",
    "                    teams[j]['points']+=1          \n",
    "                goals=[]\n",
    "                j+=1 \n",
    "        except :\n",
    "            print(Fore.RED + '************* ERROR : Please Enter a Number *************')\n",
    "            print(Style.RESET_ALL)\n",
    "\n",
    "#sort the Final list\n",
    "teams.sort(key=lambda x: x['name'],reverse=False)\n",
    "teams.sort(key=lambda x: (x['points'],x['wins'],x['goal diference']),reverse=True)\n",
    "\n",
    "#print the result\n",
    "print('\\n')\n",
    "for i in teams :\n",
    "    n=10-len(i['name'])\n",
    "    print(i['name'],\" \"*n,'wins : ', i['wins'], ' loses : ',i['loses'], ' draws : ',i['draws'], ' goal diference : ',\n",
    "          i['goal diference'], '  points : ',i['points'])"
   ]
  },
  {
   "cell_type": "code",
   "execution_count": null,
   "metadata": {},
   "outputs": [],
   "source": []
  }
 ],
 "metadata": {
  "kernelspec": {
   "display_name": "Python 3",
   "language": "python",
   "name": "python3"
  },
  "language_info": {
   "codemirror_mode": {
    "name": "ipython",
    "version": 3
   },
   "file_extension": ".py",
   "mimetype": "text/x-python",
   "name": "python",
   "nbconvert_exporter": "python",
   "pygments_lexer": "ipython3",
   "version": "3.7.4"
  }
 },
 "nbformat": 4,
 "nbformat_minor": 4
}
